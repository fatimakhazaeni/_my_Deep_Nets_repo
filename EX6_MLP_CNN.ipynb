{
  "nbformat": 4,
  "nbformat_minor": 0,
  "metadata": {
    "colab": {
      "provenance": [],
      "authorship_tag": "ABX9TyP/jAhOf3sk667gL94RJRhM",
      "include_colab_link": true
    },
    "kernelspec": {
      "name": "python3",
      "display_name": "Python 3"
    },
    "language_info": {
      "name": "python"
    }
  },
  "cells": [
    {
      "cell_type": "markdown",
      "metadata": {
        "id": "view-in-github",
        "colab_type": "text"
      },
      "source": [
        "<a href=\"https://colab.research.google.com/github/fatimakhazaeni/_my_ai_repo/blob/main/EX6_MLP_CNN.ipynb\" target=\"_parent\"><img src=\"https://colab.research.google.com/assets/colab-badge.svg\" alt=\"Open In Colab\"/></a>"
      ]
    },
    {
      "cell_type": "code",
      "execution_count": null,
      "metadata": {
        "id": "aTBEZAhuac2p"
      },
      "outputs": [],
      "source": [
        "from tensorflow import keras\n",
        "from keras.datasets import mnist\n",
        "from tensorflow.keras import layers\n",
        "from tensorflow.keras.layers import Conv2D, MaxPooling2D, Dense, Flatten\n",
        "from IPython.display import Image\n",
        "from google.colab.patches import cv2_imshow\n",
        "from sklearn import metrics\n",
        "import numpy as np\n",
        "import pandas as pd\n",
        "import matplotlib.pyplot as plt\n",
        "import cv2"
      ]
    },
    {
      "cell_type": "code",
      "source": [
        "def show_images(images: list) -> None:\n",
        "    n: int = len(images)\n",
        "    f = plt.figure()\n",
        "    for i in range(n):\n",
        "        f.add_subplot(1, n, i + 1)\n",
        "        plt.imshow(images[i], cmap='gray')\n",
        "    plt.show(block=True)\n",
        "\n",
        "def show_image(image) -> None:\n",
        "    plt.imshow(image, cmap='gray')\n",
        "    plt.show(block=True)"
      ],
      "metadata": {
        "id": "VkNjo7GublO8"
      },
      "execution_count": null,
      "outputs": []
    },
    {
      "cell_type": "code",
      "source": [
        "(x_train, y_train), (x_test, y_test) = mnist.load_data()\n",
        "#x_train.shape-->(60000, 28, 28)\n",
        "# print out first 10 images in our training data\n",
        "imgplot = show_images(x_train[0:10])\n",
        "\n",
        "# check the size of our dataset\n",
        "print(\"number of training images:\",x_train.shape[0])\n",
        "print(\"number of test images:\",y_test.shape[0])"
      ],
      "metadata": {
        "id": "_fZhGdJgbptt"
      },
      "execution_count": null,
      "outputs": []
    },
    {
      "cell_type": "code",
      "source": [
        "# update all the training, testing dataset.\n",
        "x_train = x_train.reshape(60000, 28*28)\n",
        "x_test = x_test.reshape(10000, 28*28)\n",
        "x_train = x_train.astype('float32')\n",
        "x_test = x_test.astype('float32')\n",
        "\n",
        "# normalize them into range [0, 1]\n",
        "x_train /= 255\n",
        "x_test /= 255"
      ],
      "metadata": {
        "id": "Arxb2pzRbzE5"
      },
      "execution_count": null,
      "outputs": []
    },
    {
      "cell_type": "code",
      "source": [
        "from keras.src import activations\n",
        "num_classes = 10\n",
        "model = keras.Sequential(\n",
        "    [\n",
        "        layers.Dense(500, input_shape=(28*28,), activation='relu'), #Parm = (28*28+1)*500 = 392500\n",
        "        layers.Dense(250, activation='relu'),\n",
        "        layers.Dense(num_classes, activation='softmax')\n",
        "    ]\n",
        "\n",
        ");\n",
        "model.summary()"
      ],
      "metadata": {
        "id": "b28xnMNhb4dW"
      },
      "execution_count": null,
      "outputs": []
    },
    {
      "cell_type": "code",
      "source": [
        "model.compile(optimizer = 'SGD',\n",
        "              loss = 'sparse_categorical_crossentropy',\n",
        "              metrics = ['accuracy'])\n",
        "\n",
        "batch_size = 250\n",
        "epochs = 10\n",
        "history = model.fit(x_train, y_train,\n",
        "                    epochs=epochs,\n",
        "                    validation_split=0.2)"
      ],
      "metadata": {
        "id": "Lep01OAOb9Ur"
      },
      "execution_count": null,
      "outputs": []
    },
    {
      "cell_type": "code",
      "source": [
        "loss_ , acc = model.evaluate(x_test, y_test, verbose=0)\n",
        "print('Test loss:', loss_)\n",
        "print('Test accuracy:', acc)"
      ],
      "metadata": {
        "id": "BDvCfM1HcILD"
      },
      "execution_count": null,
      "outputs": []
    },
    {
      "cell_type": "code",
      "source": [
        "prediction = model.predict(x_test)\n",
        "classes_x=np.argmax(prediction,axis=1)#این دستور خروجی پیش بینی شده را که به صورت یک آرایه هست را به یک عدد تبدیل می کند\n",
        "print('Test prediction:', classes_x)"
      ],
      "metadata": {
        "id": "n5DotxLfcJOG"
      },
      "execution_count": null,
      "outputs": []
    },
    {
      "cell_type": "code",
      "source": [
        "(_, _), (x_test_image, y_test_label) = mnist.load_data()\n",
        "\n",
        "\n",
        "b=0\n",
        "f,axs = plt.subplots(1,10, figsize=(15, 15))\n",
        "\n",
        "for t in range (len(y_test)):\n",
        "  if b>=10:\n",
        "    break\n",
        "  if (classes_x[t] !=  y_test_label[t]):\n",
        "    axs[b].imshow(x_test_image[t], cmap='gray')\n",
        "    axs[b].set_title(f'true label:{y_test_label[t]} \\n' f'pred label:{classes_x[t]}')\n",
        "    axs[b].axis('off')\n",
        "\n",
        "    b+=1"
      ],
      "metadata": {
        "id": "HtfSIROucMU5"
      },
      "execution_count": null,
      "outputs": []
    },
    {
      "cell_type": "code",
      "source": [
        "b=0\n",
        "f,axs = plt.subplots(1,10, figsize=(15, 15))\n",
        "\n",
        "for t in range (len(y_test_label)):\n",
        "  if b>=10:\n",
        "    break\n",
        "  if (classes_x[t] ==  y_test_label[t]):\n",
        "    axs[b].imshow(x_test_image[t], cmap='gray')\n",
        "    axs[b].set_title(f'true label:{y_test_label[t]} \\n' f'pred label:{classes_x[t]}')\n",
        "    axs[b].axis('off')\n",
        "\n",
        "    b+=1"
      ],
      "metadata": {
        "id": "4GHMDqrfcPqV"
      },
      "execution_count": null,
      "outputs": []
    },
    {
      "cell_type": "code",
      "source": [
        "def show_train_history(train_history):\n",
        "    fig=plt.gcf()\n",
        "    fig.set_size_inches(8, 4)\n",
        "    plt.subplot(121)\n",
        "    print(train_history.history.keys())\n",
        "\n",
        "    if \"accuracy\" in train_history.history.keys():\n",
        "        plt.plot(train_history.history[\"accuracy\"])\n",
        "\n",
        "    if \"val_accuracy\" in train_history.history.keys():\n",
        "        plt.plot(train_history.history[\"val_accuracy\"])\n",
        "\n",
        "    plt.title(\"Train History\")\n",
        "    plt.xlabel(\"Epoch\")\n",
        "    plt.ylabel(\"Accuracy\")\n",
        "    plt.legend([\"train\", \"validation\"], loc=\"upper left\", fontsize=\"8\")\n",
        "    plt.subplot(122)\n",
        "\n",
        "    if \"loss\" in train_history.history.keys():\n",
        "        plt.plot(train_history.history[\"loss\"])\n",
        "\n",
        "    if \"val_loss\" in train_history.history.keys():\n",
        "        plt.plot(train_history.history[\"val_loss\"])\n",
        "\n",
        "    plt.title(\"Train History\")\n",
        "    plt.xlabel(\"Epoch\")\n",
        "    plt.ylabel(\"Loss\")\n",
        "    plt.legend([\"train\", \"validation\"], loc=\"upper right\", fontsize=\"8\")\n",
        "    plt.show()\n",
        "\n",
        "\n",
        "#show train history\n",
        "show_train_history(history)"
      ],
      "metadata": {
        "id": "x44EPlH_cTRv"
      },
      "execution_count": null,
      "outputs": []
    },
    {
      "cell_type": "code",
      "source": [
        "def plot_confusion_matrix(labels, pred_labels):\n",
        "\n",
        "    fig = plt.figure(figsize=(5, 5))\n",
        "    ax = fig.add_subplot(1, 1, 1)\n",
        "    cm = metrics.confusion_matrix(labels, pred_labels)\n",
        "    cm = metrics.ConfusionMatrixDisplay(cm, display_labels=range(10))\n",
        "    cm.plot(values_format='d', cmap='Blues', ax=ax)\n",
        "\n",
        "\n",
        "plot_confusion_matrix(y_test_label,classes_x)"
      ],
      "metadata": {
        "id": "eW7YMVZ7cX-D"
      },
      "execution_count": null,
      "outputs": []
    },
    {
      "cell_type": "code",
      "source": [
        "(x_train, y_train), (x_test, y_test) = mnist.load_data()\n",
        "#x_train.shape-->(60000, 28, 28)\n",
        "# print out first 10 images in our training data\n",
        "imgplot = show_images(x_train[0:10])\n",
        "\n",
        "# check the size of our dataset\n",
        "print(\"number of training images:\",x_train.shape[0])\n",
        "print(\"number of test images:\",y_test.shape[0])"
      ],
      "metadata": {
        "id": "e2ymm-QAcexZ"
      },
      "execution_count": null,
      "outputs": []
    },
    {
      "cell_type": "code",
      "source": [
        "num_filters = 16\n",
        "filter_size = 3\n",
        "pool_size = 2\n",
        "\n",
        "# Build the model.\n",
        "model = keras.Sequential([\n",
        "  Conv2D(num_filters, filter_size, input_shape=(28, 28, 1), activation='relu', padding = 'same', strides = 2),\n",
        "  Conv2D(num_filters, filter_size, activation='relu', padding = 'same', strides = 2),\n",
        "  MaxPooling2D(pool_size=pool_size),\n",
        "  Flatten(),\n",
        "  Dense(10, activation='softmax'),\n",
        "])\n",
        "model.summary()"
      ],
      "metadata": {
        "id": "jDvjwSLIckvs"
      },
      "execution_count": null,
      "outputs": []
    },
    {
      "cell_type": "code",
      "source": [
        "model.compile(optimizer = 'SGD',\n",
        "              loss = 'sparse_categorical_crossentropy',\n",
        "              metrics = ['accuracy'])\n",
        "\n",
        "batch_size = 250\n",
        "epochs = 10\n",
        "\n",
        "# Train the model.\n",
        "history = model.fit(x_train, y_train,\n",
        "                    epochs=epochs,\n",
        "                    validation_split=0.2)"
      ],
      "metadata": {
        "id": "fdJuYt1UcpPH"
      },
      "execution_count": null,
      "outputs": []
    },
    {
      "cell_type": "code",
      "source": [
        "loss_ , acc = model.evaluate(x_test, y_test, verbose=0)\n",
        "print('Test loss:', loss_)\n",
        "print('Test accuracy:', acc)"
      ],
      "metadata": {
        "id": "Atg7oSXgctPE"
      },
      "execution_count": null,
      "outputs": []
    },
    {
      "cell_type": "code",
      "source": [
        "prediction = model.predict(x_test)\n",
        "classes_x=np.argmax(prediction,axis=1)#این دستور خروجی پیش بینی شده را که به صورت یک آرایه هست را به یک عدد تبدیل می کند\n",
        "print('Test prediction:', classes_x)"
      ],
      "metadata": {
        "id": "CLfr-2Jwct7o"
      },
      "execution_count": null,
      "outputs": []
    },
    {
      "cell_type": "code",
      "source": [
        "(_, _), (x_test_image, y_test_label) = mnist.load_data()\n",
        "\n",
        "\n",
        "b=0\n",
        "f,axs = plt.subplots(1,10, figsize=(15, 15))\n",
        "\n",
        "for t in range (len(y_test)):\n",
        "  if b>=10:\n",
        "    break\n",
        "  if (classes_x[t] !=  y_test_label[t]):\n",
        "    axs[b].imshow(x_test_image[t], cmap='gray')\n",
        "    axs[b].set_title(f'true label:{y_test_label[t]} \\n' f'pred label:{classes_x[t]}')\n",
        "    axs[b].axis('off')\n",
        "\n",
        "    b+=1"
      ],
      "metadata": {
        "id": "junwB7zDcwqU"
      },
      "execution_count": null,
      "outputs": []
    },
    {
      "cell_type": "code",
      "source": [
        "b=0\n",
        "f,axs = plt.subplots(1,10, figsize=(15, 15))\n",
        "\n",
        "for t in range (len(y_test_label)):\n",
        "  if b>=10:\n",
        "    break\n",
        "  if (classes_x[t] ==  y_test_label[t]):\n",
        "    axs[b].imshow(x_test_image[t], cmap='gray')\n",
        "    axs[b].set_title(f'true label:{y_test_label[t]} \\n' f'pred label:{classes_x[t]}')\n",
        "    axs[b].axis('off')\n",
        "\n",
        "    b+=1"
      ],
      "metadata": {
        "id": "xd7SUf3uc192"
      },
      "execution_count": null,
      "outputs": []
    },
    {
      "cell_type": "code",
      "source": [
        "def show_train_history(train_history):\n",
        "    fig=plt.gcf()\n",
        "    fig.set_size_inches(8, 4)\n",
        "    plt.subplot(121)\n",
        "    print(train_history.history.keys())\n",
        "\n",
        "    if \"accuracy\" in train_history.history.keys():\n",
        "        plt.plot(train_history.history[\"accuracy\"])\n",
        "\n",
        "    if \"val_accuracy\" in train_history.history.keys():\n",
        "        plt.plot(train_history.history[\"val_accuracy\"])\n",
        "\n",
        "    plt.title(\"Train History\")\n",
        "    plt.xlabel(\"Epoch\")\n",
        "    plt.ylabel(\"Accuracy\")\n",
        "    plt.legend([\"train\", \"validation\"], loc=\"upper left\", fontsize=\"8\")\n",
        "    plt.subplot(122)\n",
        "\n",
        "    if \"loss\" in train_history.history.keys():\n",
        "        plt.plot(train_history.history[\"loss\"])\n",
        "\n",
        "    if \"val_loss\" in train_history.history.keys():\n",
        "        plt.plot(train_history.history[\"val_loss\"])\n",
        "\n",
        "    plt.title(\"Train History\")\n",
        "    plt.xlabel(\"Epoch\")\n",
        "    plt.ylabel(\"Loss\")\n",
        "    plt.legend([\"train\", \"validation\"], loc=\"upper right\", fontsize=\"8\")\n",
        "    plt.show()\n",
        "\n",
        "\n",
        "#show train history\n",
        "show_train_history(history)"
      ],
      "metadata": {
        "id": "oxWcNatsdEF8"
      },
      "execution_count": null,
      "outputs": []
    },
    {
      "cell_type": "code",
      "source": [
        "def plot_confusion_matrix(labels, pred_labels):\n",
        "\n",
        "    fig = plt.figure(figsize=(5, 5))\n",
        "    ax = fig.add_subplot(1, 1, 1)\n",
        "    cm = metrics.confusion_matrix(labels, pred_labels)\n",
        "    cm = metrics.ConfusionMatrixDisplay(cm, display_labels=range(10))\n",
        "    cm.plot(values_format='d', cmap='Blues', ax=ax)\n",
        "\n",
        "\n",
        "plot_confusion_matrix(y_test_label,classes_x)"
      ],
      "metadata": {
        "id": "GA73h1hLdFI-"
      },
      "execution_count": null,
      "outputs": []
    },
    {
      "cell_type": "code",
      "source": [],
      "metadata": {
        "id": "BEbQ6xaYdIyq"
      },
      "execution_count": null,
      "outputs": []
    }
  ]
}